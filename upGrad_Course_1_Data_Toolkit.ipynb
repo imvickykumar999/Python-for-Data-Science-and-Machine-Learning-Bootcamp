{
  "nbformat": 4,
  "nbformat_minor": 0,
  "metadata": {
    "colab": {
      "provenance": [],
      "authorship_tag": "ABX9TyNB6aqgEiBFKZ6MzrRJJ0vY",
      "include_colab_link": true
    },
    "kernelspec": {
      "name": "python3",
      "display_name": "Python 3"
    },
    "language_info": {
      "name": "python"
    }
  },
  "cells": [
    {
      "cell_type": "markdown",
      "metadata": {
        "id": "view-in-github",
        "colab_type": "text"
      },
      "source": [
        "<a href=\"https://colab.research.google.com/github/imvickykumar999/Python-for-Data-Science-and-Machine-Learning-Bootcamp/blob/main/upGrad_Course_1_Data_Toolkit.ipynb\" target=\"_parent\"><img src=\"https://colab.research.google.com/assets/colab-badge.svg\" alt=\"Open In Colab\"/></a>"
      ]
    },
    {
      "cell_type": "markdown",
      "source": [
        "# Question : [DDS](https://course.upgrad.com/v/course/4458/question/632123)\n",
        "need of code in the below question explanation\n",
        "You are given a list of string elements and asked to return a list which contains each element of the string in title case or in other words first character of the string would be in upper case and remaining all characters in lower case"
      ],
      "metadata": {
        "id": "c2cp2D1h8zq9"
      }
    },
    {
      "cell_type": "code",
      "source": [
        "mylist = ['hello', 'welcome', 'to', 'DDS']\n",
        "result = [i[0].upper() + i[1:] for i in mylist]\n",
        "print(result)"
      ],
      "metadata": {
        "colab": {
          "base_uri": "https://localhost:8080/"
        },
        "id": "fXFgxj0u8vp7",
        "outputId": "12c5a16f-3c18-44fa-be65-b5815d4e2dc9"
      },
      "execution_count": null,
      "outputs": [
        {
          "output_type": "stream",
          "name": "stdout",
          "text": [
            "['Hello', 'Welcome', 'To', 'DDS']\n"
          ]
        }
      ]
    },
    {
      "cell_type": "code",
      "source": [
        "addlist = []         # initialing empty list\n",
        "for i in mylist:\n",
        "  a = i[0].upper()   # make first letter upper-case\n",
        "  s = a + i[1:]      # i[1:] give string excluding first letter\n",
        "  addlist.append(s)  # append each word in list\n",
        "\n",
        "print(addlist)"
      ],
      "metadata": {
        "colab": {
          "base_uri": "https://localhost:8080/"
        },
        "id": "WTdVUyIL9F5C",
        "outputId": "11de3520-b49f-4c3d-9de0-80df5c99b4f2"
      },
      "execution_count": null,
      "outputs": [
        {
          "output_type": "stream",
          "name": "stdout",
          "text": [
            "['Hello', 'Welcome', 'To', 'DDS']\n"
          ]
        }
      ]
    },
    {
      "cell_type": "code",
      "source": [
        "#take input here\n",
        "mc = input().split(',')\n",
        "m = int(mc[0])\n",
        "c = int(mc[1])\n",
        "\n",
        "#start writing your code here\n",
        "w = choc = m//c\n",
        "\n",
        "while w//3 != 0:\n",
        "    choc += w//3\n",
        "    w = w//3 + w%3\n",
        "\n",
        "#dont forget to print the number of chocolates Sanjay can eat\n",
        "print(choc)"
      ],
      "metadata": {
        "id": "S-QM53qX9ZRq",
        "colab": {
          "base_uri": "https://localhost:8080/"
        },
        "outputId": "4848bef5-438b-46a1-86b3-9e6cea22a00a"
      },
      "execution_count": null,
      "outputs": [
        {
          "output_type": "stream",
          "name": "stdout",
          "text": [
            "4435,76\n",
            "86\n"
          ]
        }
      ]
    },
    {
      "cell_type": "code",
      "source": [
        "def final_choc(m, c):\n",
        "  w = choc = m//c\n",
        "\n",
        "  while w//3 != 0:\n",
        "      choc += w//3\n",
        "      w = w//3 + w%3\n",
        "\n",
        "  return choc"
      ],
      "metadata": {
        "id": "_ZtwKBJU3ub9"
      },
      "execution_count": null,
      "outputs": []
    },
    {
      "cell_type": "code",
      "source": [
        "final_choc(345,2)"
      ],
      "metadata": {
        "colab": {
          "base_uri": "https://localhost:8080/"
        },
        "id": "PTXS2IIu4Pxp",
        "outputId": "f360432d-1a9c-4d47-ce6d-a924e9764ecf"
      },
      "execution_count": null,
      "outputs": [
        {
          "output_type": "execute_result",
          "data": {
            "text/plain": [
              "257"
            ]
          },
          "metadata": {},
          "execution_count": 4
        }
      ]
    },
    {
      "cell_type": "code",
      "source": [
        "final_choc(3,1)"
      ],
      "metadata": {
        "colab": {
          "base_uri": "https://localhost:8080/"
        },
        "id": "DTXKnLbo4Tly",
        "outputId": "9c667a8f-e474-4c82-e0d4-d2786efbda16"
      },
      "execution_count": null,
      "outputs": [
        {
          "output_type": "execute_result",
          "data": {
            "text/plain": [
              "4"
            ]
          },
          "metadata": {},
          "execution_count": 5
        }
      ]
    },
    {
      "cell_type": "code",
      "source": [
        "final_choc(20,4)"
      ],
      "metadata": {
        "colab": {
          "base_uri": "https://localhost:8080/"
        },
        "id": "V4BLd8Jt4Y3h",
        "outputId": "8cc7fa4b-5adb-4ead-86c3-c6ef1d191c73"
      },
      "execution_count": null,
      "outputs": [
        {
          "output_type": "execute_result",
          "data": {
            "text/plain": [
              "7"
            ]
          },
          "metadata": {},
          "execution_count": 7
        }
      ]
    },
    {
      "cell_type": "code",
      "source": [
        "final_choc(18,2)"
      ],
      "metadata": {
        "colab": {
          "base_uri": "https://localhost:8080/"
        },
        "id": "HnGra9S24eVQ",
        "outputId": "b1c937dc-6c02-4e39-ccc7-d2be73179591"
      },
      "execution_count": null,
      "outputs": [
        {
          "output_type": "execute_result",
          "data": {
            "text/plain": [
              "13"
            ]
          },
          "metadata": {},
          "execution_count": 8
        }
      ]
    },
    {
      "cell_type": "code",
      "source": [
        "final_choc(100,5)"
      ],
      "metadata": {
        "colab": {
          "base_uri": "https://localhost:8080/"
        },
        "id": "dS_7MlBS4kla",
        "outputId": "c474eecf-0bd0-4d8a-c726-f9de8e050a31"
      },
      "execution_count": null,
      "outputs": [
        {
          "output_type": "execute_result",
          "data": {
            "text/plain": [
              "29"
            ]
          },
          "metadata": {},
          "execution_count": 10
        }
      ]
    },
    {
      "cell_type": "code",
      "source": [
        "final_choc(15,2)"
      ],
      "metadata": {
        "colab": {
          "base_uri": "https://localhost:8080/"
        },
        "id": "7CWm1UjD4ol7",
        "outputId": "ea03b435-f626-4916-f6ae-99ca2aa7335e"
      },
      "execution_count": null,
      "outputs": [
        {
          "output_type": "execute_result",
          "data": {
            "text/plain": [
              "10"
            ]
          },
          "metadata": {},
          "execution_count": 11
        }
      ]
    },
    {
      "cell_type": "code",
      "source": [
        "A = [10, 20, 30]"
      ],
      "metadata": {
        "id": "leiCLYhH4sm4"
      },
      "execution_count": null,
      "outputs": []
    },
    {
      "cell_type": "code",
      "source": [
        "B = [45, 35, 25]"
      ],
      "metadata": {
        "id": "0UfczpBEqOZL"
      },
      "execution_count": null,
      "outputs": []
    },
    {
      "cell_type": "code",
      "source": [
        "B.extend(A)"
      ],
      "metadata": {
        "id": "zUXsLV5DqS1l"
      },
      "execution_count": null,
      "outputs": []
    },
    {
      "cell_type": "code",
      "source": [
        "B == [45, 35, 25, 10, 20, 30]"
      ],
      "metadata": {
        "colab": {
          "base_uri": "https://localhost:8080/"
        },
        "id": "dNuTWbaXqWsm",
        "outputId": "4399a7ba-27d8-45a3-bbb9-0f3fb76e05ae"
      },
      "execution_count": null,
      "outputs": [
        {
          "output_type": "execute_result",
          "data": {
            "text/plain": [
              "True"
            ]
          },
          "metadata": {},
          "execution_count": 5
        }
      ]
    },
    {
      "cell_type": "code",
      "source": [
        "[A.append(i) for i in B]"
      ],
      "metadata": {
        "colab": {
          "base_uri": "https://localhost:8080/"
        },
        "id": "rkuSZ5XOqTaQ",
        "outputId": "83ffbfb9-5633-4348-ea6b-65b5e81afd07"
      },
      "execution_count": null,
      "outputs": [
        {
          "output_type": "execute_result",
          "data": {
            "text/plain": [
              "[None, None, None, None, None, None]"
            ]
          },
          "metadata": {},
          "execution_count": 6
        }
      ]
    },
    {
      "cell_type": "code",
      "source": [
        "a = [2,0,-3,7,21]\n",
        "# a = []\n",
        "\n",
        "try:\n",
        "  print(min(a))\n",
        "except Exception as e:\n",
        "  print(e)"
      ],
      "metadata": {
        "colab": {
          "base_uri": "https://localhost:8080/"
        },
        "id": "uGBgOiRtqhMR",
        "outputId": "0f27bff3-a236-4e36-a325-417cdcc61dcb"
      },
      "execution_count": null,
      "outputs": [
        {
          "output_type": "stream",
          "name": "stdout",
          "text": [
            "-3\n"
          ]
        }
      ]
    },
    {
      "cell_type": "code",
      "source": [
        "if a:\n",
        "  m = a[0]\n",
        "  for i in a:\n",
        "    if i < m:\n",
        "      m = i\n",
        "else:\n",
        "  m = 'List is empty'\n",
        "m"
      ],
      "metadata": {
        "colab": {
          "base_uri": "https://localhost:8080/"
        },
        "id": "Ak_fuIb3sjTA",
        "outputId": "2b4113ae-0dbe-4873-ed94-a92a60104b16"
      },
      "execution_count": null,
      "outputs": [
        {
          "output_type": "execute_result",
          "data": {
            "text/plain": [
              "-3"
            ]
          },
          "metadata": {},
          "execution_count": 12
        }
      ]
    },
    {
      "cell_type": "code",
      "source": [
        "a = [2,-3,0,21,7]\n",
        "a.sort()\n",
        "print(a)"
      ],
      "metadata": {
        "colab": {
          "base_uri": "https://localhost:8080/"
        },
        "id": "gdYYGoUJspgb",
        "outputId": "a5b55e58-0d6b-45fc-9888-2b41a2c837ba"
      },
      "execution_count": null,
      "outputs": [
        {
          "output_type": "stream",
          "name": "stdout",
          "text": [
            "[-3, 0, 2, 7, 21]\n"
          ]
        }
      ]
    },
    {
      "cell_type": "code",
      "source": [
        "a[1] # 2nd minimum"
      ],
      "metadata": {
        "colab": {
          "base_uri": "https://localhost:8080/"
        },
        "id": "edNsoeE7xJyX",
        "outputId": "8be50e77-b559-41aa-9bc9-606b7528acd8"
      },
      "execution_count": null,
      "outputs": [
        {
          "output_type": "execute_result",
          "data": {
            "text/plain": [
              "0"
            ]
          },
          "metadata": {},
          "execution_count": 31
        }
      ]
    },
    {
      "cell_type": "code",
      "source": [
        "a[-2] # 2nd maximum"
      ],
      "metadata": {
        "colab": {
          "base_uri": "https://localhost:8080/"
        },
        "id": "_jT5U9XAxSjY",
        "outputId": "3e6ccc42-b2fb-4295-e823-71f4f477a6be"
      },
      "execution_count": null,
      "outputs": [
        {
          "output_type": "execute_result",
          "data": {
            "text/plain": [
              "7"
            ]
          },
          "metadata": {},
          "execution_count": 32
        }
      ]
    },
    {
      "cell_type": "code",
      "source": [
        "B.extend(A)"
      ],
      "metadata": {
        "id": "OKc0sDQBxYch"
      },
      "execution_count": null,
      "outputs": []
    },
    {
      "cell_type": "code",
      "source": [
        "A, B"
      ],
      "metadata": {
        "colab": {
          "base_uri": "https://localhost:8080/"
        },
        "id": "vN05UEMe0KIh",
        "outputId": "fe17baf8-016d-4b68-bc8a-a54b3260e29b"
      },
      "execution_count": null,
      "outputs": [
        {
          "output_type": "execute_result",
          "data": {
            "text/plain": [
              "([10, 20, 30], [45, 35, 25, 10, 20, 30])"
            ]
          },
          "metadata": {},
          "execution_count": 45
        }
      ]
    },
    {
      "cell_type": "code",
      "source": [
        "#you have to take input on your own here\n",
        "\n",
        "import ast\n",
        "\n",
        "team = ast.literal_eval(input())\n",
        "applicant = ast.literal_eval(input())\n",
        "\n",
        "#write your code here\n",
        "def check_above_avg(data, check):\n",
        "    s = sum(data)\n",
        "    avg = s/len(data)\n",
        "    if check > avg:\n",
        "        return 1\n",
        "    else:\n",
        "        return 0\n",
        "\n",
        "for i in applicant:\n",
        "    c = check_above_avg(team, i)\n",
        "    if c == 1:\n",
        "        team.append(i)\n",
        "    \n",
        "print(team)\n",
        "\n",
        "\n",
        "# https://learn.upgrad.com/course/4458/segment/32828/194700/599298/3053695"
      ],
      "metadata": {
        "colab": {
          "base_uri": "https://localhost:8080/"
        },
        "id": "8hihzzTm0Rgh",
        "outputId": "044935b6-ed71-4741-e02f-225da693ea93"
      },
      "execution_count": null,
      "outputs": [
        {
          "output_type": "stream",
          "name": "stdout",
          "text": [
            "[10,20,30,40,50]\n",
            "[30,60,80,40]\n",
            "[10, 20, 30, 40, 50, 60, 80]\n"
          ]
        }
      ]
    },
    {
      "cell_type": "code",
      "source": [
        "from functools import reduce\n",
        "reduce(lambda x,y : x+y, ['1', '2'])"
      ],
      "metadata": {
        "colab": {
          "base_uri": "https://localhost:8080/",
          "height": 35
        },
        "id": "WB6ZQ5E7SNRX",
        "outputId": "22a1646e-1bfa-4467-8d0c-05a5573ed5bd"
      },
      "execution_count": null,
      "outputs": [
        {
          "output_type": "execute_result",
          "data": {
            "text/plain": [
              "'12'"
            ],
            "application/vnd.google.colaboratory.intrinsic+json": {
              "type": "string"
            }
          },
          "metadata": {},
          "execution_count": 27
        }
      ]
    },
    {
      "cell_type": "code",
      "source": [
        "# https://learn.upgrad.com/course/4458/segment/32828/194700/599298/3053697\n",
        "\n",
        "#take input on your own here\n",
        "import ast \n",
        "\n",
        "mylist = ast.literal_eval(input())\n",
        "m = mylist[0]\n",
        "n = mylist[1]\n",
        "final = [0]*n\n",
        "\n",
        "#start writing code here\n",
        "final = [list(final) for i in range(m)]\n",
        "\n",
        "for i in range(m):\n",
        "    for j in range(n):\n",
        "        if i==0 or j==0 or i==m-1 or j==n-1:\n",
        "            final[i][j] = 1\n",
        "            \n",
        "for i in final:\n",
        "    print(i)"
      ],
      "metadata": {
        "id": "o28vDV7oSqMD",
        "colab": {
          "base_uri": "https://localhost:8080/"
        },
        "outputId": "b8a6e74d-8abc-476c-ad7f-8fe636fdb713"
      },
      "execution_count": null,
      "outputs": [
        {
          "output_type": "stream",
          "name": "stdout",
          "text": [
            "5,7\n",
            "[1, 1, 1, 1, 1, 1, 1]\n",
            "[1, 0, 0, 0, 0, 0, 1]\n",
            "[1, 0, 0, 0, 0, 0, 1]\n",
            "[1, 0, 0, 0, 0, 0, 1]\n",
            "[1, 1, 1, 1, 1, 1, 1]\n"
          ]
        }
      ]
    },
    {
      "cell_type": "code",
      "source": [
        "# if string is immutable then why,\n",
        "a = 'ABC'\n",
        "a = a + '_updated'\n",
        "a # string mutel, contradiction !"
      ],
      "metadata": {
        "colab": {
          "base_uri": "https://localhost:8080/",
          "height": 35
        },
        "id": "XZ8SOjFKt9V9",
        "outputId": "6450df56-f5a1-4c41-deab-570636e2d5a8"
      },
      "execution_count": null,
      "outputs": [
        {
          "output_type": "execute_result",
          "data": {
            "text/plain": [
              "'ABC_updated'"
            ],
            "application/vnd.google.colaboratory.intrinsic+json": {
              "type": "string"
            }
          },
          "metadata": {},
          "execution_count": 8
        }
      ]
    },
    {
      "cell_type": "code",
      "source": [
        "type(chr(51)), chr(51) # https://learn.upgrad.com/course/4458/segment/32828/194700/599299/3053700"
      ],
      "metadata": {
        "colab": {
          "base_uri": "https://localhost:8080/"
        },
        "id": "Zgy8cudUxlb_",
        "outputId": "35d99471-0e23-4b1b-dd7f-88de77ef203b"
      },
      "execution_count": null,
      "outputs": [
        {
          "output_type": "execute_result",
          "data": {
            "text/plain": [
              "(str, '3')"
            ]
          },
          "metadata": {},
          "execution_count": 14
        }
      ]
    },
    {
      "cell_type": "code",
      "source": [
        "chr(97)"
      ],
      "metadata": {
        "colab": {
          "base_uri": "https://localhost:8080/",
          "height": 35
        },
        "id": "r7OUgxaMx2Vh",
        "outputId": "e30cd0a5-3851-43f7-fa8d-4ba1d79f420c"
      },
      "execution_count": null,
      "outputs": [
        {
          "output_type": "execute_result",
          "data": {
            "text/plain": [
              "'a'"
            ],
            "application/vnd.google.colaboratory.intrinsic+json": {
              "type": "string"
            }
          },
          "metadata": {},
          "execution_count": 11
        }
      ]
    },
    {
      "cell_type": "code",
      "source": [
        "chr(123)"
      ],
      "metadata": {
        "colab": {
          "base_uri": "https://localhost:8080/",
          "height": 35
        },
        "id": "0_SsFZgSx5gg",
        "outputId": "e76dd6c6-0d84-4ac7-cf69-53b63d518062"
      },
      "execution_count": null,
      "outputs": [
        {
          "output_type": "execute_result",
          "data": {
            "text/plain": [
              "'{'"
            ],
            "application/vnd.google.colaboratory.intrinsic+json": {
              "type": "string"
            }
          },
          "metadata": {},
          "execution_count": 18
        }
      ]
    },
    {
      "cell_type": "code",
      "source": [
        "'G'.join(['up','rad'])"
      ],
      "metadata": {
        "colab": {
          "base_uri": "https://localhost:8080/",
          "height": 35
        },
        "id": "IprnIhsbybfd",
        "outputId": "77195115-4b33-4633-f203-98ccc088e469"
      },
      "execution_count": null,
      "outputs": [
        {
          "output_type": "execute_result",
          "data": {
            "text/plain": [
              "'upGrad'"
            ],
            "application/vnd.google.colaboratory.intrinsic+json": {
              "type": "string"
            }
          },
          "metadata": {},
          "execution_count": 28
        }
      ]
    },
    {
      "cell_type": "code",
      "source": [
        "s='aabupGradaab'.strip('aab')\n",
        "s"
      ],
      "metadata": {
        "colab": {
          "base_uri": "https://localhost:8080/",
          "height": 35
        },
        "id": "3qEjaOGxylzA",
        "outputId": "42e96148-ad75-49aa-97d3-d85b1aaea7cb"
      },
      "execution_count": null,
      "outputs": [
        {
          "output_type": "execute_result",
          "data": {
            "text/plain": [
              "'upGrad'"
            ],
            "application/vnd.google.colaboratory.intrinsic+json": {
              "type": "string"
            }
          },
          "metadata": {},
          "execution_count": 30
        }
      ]
    },
    {
      "cell_type": "code",
      "source": [
        "'aabupGradaab'.strip('a').strip('b').strip('a')"
      ],
      "metadata": {
        "colab": {
          "base_uri": "https://localhost:8080/",
          "height": 35
        },
        "id": "LeeNRy1b0E6f",
        "outputId": "b09dea40-e8e3-4365-8f75-acb5d52eafa8"
      },
      "execution_count": null,
      "outputs": [
        {
          "output_type": "execute_result",
          "data": {
            "text/plain": [
              "'upGrad'"
            ],
            "application/vnd.google.colaboratory.intrinsic+json": {
              "type": "string"
            }
          },
          "metadata": {},
          "execution_count": 31
        }
      ]
    },
    {
      "cell_type": "code",
      "source": [
        "# Read the input\n",
        "s = input()\n",
        "\n",
        "#check for palindrome here\n",
        "if s.lower() == s[::-1].lower():\n",
        "    print(1)\n",
        "else:\n",
        "    print(0)"
      ],
      "metadata": {
        "colab": {
          "base_uri": "https://localhost:8080/"
        },
        "id": "A_JpL6QA0Ped",
        "outputId": "b5722dd2-b4e4-4e48-93d9-855359dd7633"
      },
      "execution_count": null,
      "outputs": [
        {
          "output_type": "stream",
          "name": "stdout",
          "text": [
            "abcd\n",
            "0\n"
          ]
        }
      ]
    },
    {
      "cell_type": "code",
      "source": [
        "#take input here\n",
        "sentence=input()\n",
        "\n",
        "#reverse the words of the sentence here\n",
        "print(' '.join(sentence.split()[::-1]))"
      ],
      "metadata": {
        "colab": {
          "base_uri": "https://localhost:8080/"
        },
        "id": "qFzBJZnb0Uyg",
        "outputId": "db5b54d3-62ed-4e72-9b4d-f28f7a8b4359"
      },
      "execution_count": null,
      "outputs": [
        {
          "output_type": "stream",
          "name": "stdout",
          "text": [
            "hello welcome to upGrad\n",
            "upGrad to welcome hello\n"
          ]
        }
      ]
    },
    {
      "cell_type": "code",
      "source": [
        "#take input here\n",
        "# s=input()\n",
        "s = 'hello weLcome to upGrad'.lower()\n",
        "\n",
        "#write code to format the string s as asked \n",
        "'_'.join([i[0].upper()+i[1:] for i in s.split()])"
      ],
      "metadata": {
        "colab": {
          "base_uri": "https://localhost:8080/",
          "height": 35
        },
        "id": "6jSDiHy90eVa",
        "outputId": "3ab9a7d5-9308-4f45-d74b-59adc9a12259"
      },
      "execution_count": null,
      "outputs": [
        {
          "output_type": "execute_result",
          "data": {
            "text/plain": [
              "'Hello_Welcome_To_Upgrad'"
            ],
            "application/vnd.google.colaboratory.intrinsic+json": {
              "type": "string"
            }
          },
          "metadata": {},
          "execution_count": 50
        }
      ]
    },
    {
      "cell_type": "code",
      "source": [
        "print('_'.join([i[0].upper()+i[1:] for i in input().lower().split()]))"
      ],
      "metadata": {
        "colab": {
          "base_uri": "https://localhost:8080/"
        },
        "id": "rWTyhWGQ5eTa",
        "outputId": "a0547d7c-b9f1-48f9-a240-8e2be206ebd6"
      },
      "execution_count": null,
      "outputs": [
        {
          "output_type": "stream",
          "name": "stdout",
          "text": [
            "hEllo weLcome to upGrad\n",
            "Hello_Welcome_To_Upgrad\n"
          ]
        }
      ]
    },
    {
      "cell_type": "code",
      "source": [
        "# Sample input:\n",
        "# You love Python!\n",
        "\n",
        "# Sample output:\n",
        "# ouoeoY lv Pythn!\n",
        "\n",
        "# s = input()\n",
        "s = 'You love Python!'\n",
        "x,y=[],[]\n",
        "\n",
        "for i in s:\n",
        "  if i in 'aeiou':\n",
        "    x.append(i)\n",
        "  else:\n",
        "    y.append(i)\n",
        "\n",
        "''.join(x) + ''.join(y)"
      ],
      "metadata": {
        "colab": {
          "base_uri": "https://localhost:8080/",
          "height": 35
        },
        "id": "UzuxCms07c-7",
        "outputId": "50084991-725f-47a5-d2b7-12f74a3de369"
      },
      "execution_count": null,
      "outputs": [
        {
          "output_type": "execute_result",
          "data": {
            "text/plain": [
              "'ouoeoY lv Pythn!'"
            ],
            "application/vnd.google.colaboratory.intrinsic+json": {
              "type": "string"
            }
          },
          "metadata": {},
          "execution_count": 56
        }
      ]
    },
    {
      "cell_type": "code",
      "source": [
        "''.join([i for i in s if i in 'aeiou'] + [i for i in s if i not in 'aeiou'])"
      ],
      "metadata": {
        "colab": {
          "base_uri": "https://localhost:8080/",
          "height": 35
        },
        "id": "Pm_8PR-774NX",
        "outputId": "c2faa587-a00b-4477-954d-09bf7984bb05"
      },
      "execution_count": null,
      "outputs": [
        {
          "output_type": "execute_result",
          "data": {
            "text/plain": [
              "'ouoeoY lv Pythn!'"
            ],
            "application/vnd.google.colaboratory.intrinsic+json": {
              "type": "string"
            }
          },
          "metadata": {},
          "execution_count": 66
        }
      ]
    },
    {
      "cell_type": "code",
      "source": [
        "# Sample input:\n",
        "# upgradData\n",
        "# upGradScience\n",
        "\n",
        "# Sample output:\n",
        "# upgrad"
      ],
      "metadata": {
        "id": "HxemK9HE8gJP"
      },
      "execution_count": null,
      "outputs": []
    },
    {
      "cell_type": "code",
      "source": [
        "#input has been taken for you\n",
        "string1='upgrad'\n",
        "string2='upgradScience'\n",
        "\n",
        "s1 = string1.lower()+'1'\n",
        "s2 = string2.lower()+'2'\n",
        "\n",
        "#start writing your code to find largest common prefix here\n",
        "r = min(len(s1), len(s2))\n",
        "for i in range(r):\n",
        "  if s1[i] != s2[i]:\n",
        "    break\n",
        "\n",
        "if i==0:\n",
        "  r=-1\n",
        "else:\n",
        "  r=i\n",
        "\n",
        "print(string1[:r])"
      ],
      "metadata": {
        "colab": {
          "base_uri": "https://localhost:8080/"
        },
        "id": "Vag6wxErBKrG",
        "outputId": "4080c729-c582-4b0a-bb80-c8f566a7a8e1"
      },
      "execution_count": null,
      "outputs": [
        {
          "output_type": "stream",
          "name": "stdout",
          "text": [
            "vupgra\n"
          ]
        }
      ]
    },
    {
      "cell_type": "code",
      "source": [
        "print(set(input())==set(input()))"
      ],
      "metadata": {
        "colab": {
          "base_uri": "https://localhost:8080/"
        },
        "id": "re4dOJyAB1Ti",
        "outputId": "e37c4fa8-5766-4aae-c594-9b87add2cc31"
      },
      "execution_count": null,
      "outputs": [
        {
          "output_type": "stream",
          "name": "stdout",
          "text": [
            "thing\n",
            "night\n",
            "True\n"
          ]
        }
      ]
    },
    {
      "cell_type": "code",
      "source": [
        "A = {1,2,3,4}\n",
        "B = {2,3,4,5}\n",
        "C = {3,4,5,6}\n",
        "D = {4,5,6,7}\n",
        "\n",
        "A.intersection(B, C, D)"
      ],
      "metadata": {
        "id": "u1J2PlBoWHk8",
        "colab": {
          "base_uri": "https://localhost:8080/"
        },
        "outputId": "585638fd-be64-42a8-f7e9-4416e89ac2cc"
      },
      "execution_count": null,
      "outputs": [
        {
          "output_type": "execute_result",
          "data": {
            "text/plain": [
              "{4}"
            ]
          },
          "metadata": {},
          "execution_count": 84
        }
      ]
    },
    {
      "cell_type": "code",
      "source": [
        "A.intersection(B, C, D) == B.intersection(A, C, D) == C.intersection(B, A, D) == D.intersection(B, C, A)"
      ],
      "metadata": {
        "colab": {
          "base_uri": "https://localhost:8080/"
        },
        "id": "peqZj_wmjLG5",
        "outputId": "82a8bcdf-21c9-4df3-f6ef-7aa97ff56c0b"
      },
      "execution_count": null,
      "outputs": [
        {
          "output_type": "execute_result",
          "data": {
            "text/plain": [
              "True"
            ]
          },
          "metadata": {},
          "execution_count": 85
        }
      ]
    },
    {
      "cell_type": "code",
      "source": [
        "set.intersection(A, B, C, D)"
      ],
      "metadata": {
        "colab": {
          "base_uri": "https://localhost:8080/"
        },
        "id": "oJw9JhAcjxxR",
        "outputId": "a66dfcac-b4d8-48d8-f659-e1b2e4cd4a4c"
      },
      "execution_count": null,
      "outputs": [
        {
          "output_type": "execute_result",
          "data": {
            "text/plain": [
              "{4}"
            ]
          },
          "metadata": {},
          "execution_count": 89
        }
      ]
    },
    {
      "cell_type": "code",
      "source": [
        "inp = [8, 9, 2, 2, 3, 4, 5, 2]\n",
        "x = []\n",
        "\n",
        "for i in inp:\n",
        "  if i not in x:\n",
        "    x.append(i)\n",
        "x"
      ],
      "metadata": {
        "colab": {
          "base_uri": "https://localhost:8080/"
        },
        "id": "Yrw8aIcPj8Q3",
        "outputId": "63fca27e-de27-4fbc-f00c-b647aaef3053"
      },
      "execution_count": null,
      "outputs": [
        {
          "output_type": "execute_result",
          "data": {
            "text/plain": [
              "[8, 9, 2, 3, 4, 5]"
            ]
          },
          "metadata": {},
          "execution_count": 1
        }
      ]
    },
    {
      "cell_type": "code",
      "source": [
        "# Sample input:\n",
        "# {‘Mobile’: [‘Redmi’, ‘Samsung’, ‘Realme’], \n",
        "# ‘Laptop’: [‘Dell’, ‘HP’],\n",
        "# ‘TV’: [‘Videocon’, ‘Sony’] }\n",
        "\n",
        "# Sample output:\n",
        "# [‘Mobile_Redmi’, ‘Mobile_Samsung’, ‘Mobile_Realme’, ‘Laptop_Dell’, ‘Laptop_HP’, ‘TV_Videocon’, ‘TV_Sony’]"
      ],
      "metadata": {
        "id": "3IpLD34dEPCg"
      },
      "execution_count": null,
      "outputs": []
    },
    {
      "cell_type": "code",
      "source": [
        "d = {'Mobile': ['Redmi', 'Samsung', 'Realme'], \n",
        "'Laptop': ['Dell', 'HP'],\n",
        "'TV': ['Videocon', 'Sony'] }\n",
        "\n",
        "a = []\n",
        "for i,j in d.items():\n",
        "  for k in j:\n",
        "    a.append(f'{i}_{k}')\n",
        "a"
      ],
      "metadata": {
        "colab": {
          "base_uri": "https://localhost:8080/"
        },
        "id": "IQd3yKaLTm_r",
        "outputId": "c82d6f18-0716-4914-f76d-fded49901e5f"
      },
      "execution_count": null,
      "outputs": [
        {
          "output_type": "execute_result",
          "data": {
            "text/plain": [
              "['Mobile_Redmi',\n",
              " 'Mobile_Samsung',\n",
              " 'Mobile_Realme',\n",
              " 'Laptop_Dell',\n",
              " 'Laptop_HP',\n",
              " 'TV_Videocon',\n",
              " 'TV_Sony']"
            ]
          },
          "metadata": {},
          "execution_count": 12
        }
      ]
    },
    {
      "cell_type": "code",
      "source": [
        "s = 'ab#ab#ab6a'\n",
        "\n",
        "x={}\n",
        "for i in s:\n",
        "  if i not in x:\n",
        "    x[i] = 1\n",
        "  else:\n",
        "    x[i] += 1\n",
        "\n",
        "if list(set(x.values())) == list(range(1,len(x)+1)):\n",
        "  print(True)\n",
        "else:\n",
        "  print(False)"
      ],
      "metadata": {
        "colab": {
          "base_uri": "https://localhost:8080/"
        },
        "id": "T3nEMeKuUr5o",
        "outputId": "79676741-0558-49e5-a468-9cbfeb694c70"
      },
      "execution_count": null,
      "outputs": [
        {
          "output_type": "stream",
          "name": "stdout",
          "text": [
            "True\n"
          ]
        }
      ]
    },
    {
      "cell_type": "markdown",
      "source": [
        "# [**Balanced Brackets**](https://learn.upgrad.com/course/4458/segment/32828/194700/599301/3053714)\n",
        "\n",
        "*By now you must have realised that matching brackets get highlighted when you are coding on the console.*\n",
        "\n",
        "-------------\n",
        "\n",
        "**Your next problem is based on the same thing. Given a string on brackets, can you determine if the string of brackets is balanced or not?**"
      ],
      "metadata": {
        "id": "EfJu5t1aITaP"
      }
    },
    {
      "cell_type": "code",
      "source": [
        "def check(s):\n",
        "  x = []\n",
        "  for i in s:\n",
        "    if len(x) == 0:\n",
        "      x.append(i)\n",
        "    else:\n",
        "      if i == ')' and x[-1] == '(':\n",
        "        x.pop()\n",
        "      elif i == '}' and x[-1] == '{':\n",
        "        x.pop()\n",
        "      elif i == ']' and x[-1] == '[':\n",
        "        x.pop()\n",
        "      else:\n",
        "        x.append(i)\n",
        "\n",
        "  if x:\n",
        "    print('No')\n",
        "  else:\n",
        "    print('Yes')\n",
        "\n",
        "check('){[[]]}())()')\n",
        "check('()')"
      ],
      "metadata": {
        "id": "FA3R_-SCZqio",
        "colab": {
          "base_uri": "https://localhost:8080/"
        },
        "outputId": "1473ac64-4d3d-4ee0-88c2-6f0073e2ba6f"
      },
      "execution_count": null,
      "outputs": [
        {
          "output_type": "stream",
          "name": "stdout",
          "text": [
            "No\n",
            "Yes\n"
          ]
        }
      ]
    },
    {
      "cell_type": "code",
      "source": [
        "n = '34453'\n",
        "for i in n:\n",
        "  for j in i:\n",
        "    print(j)"
      ],
      "metadata": {
        "id": "l5MqjkqjEWLn",
        "colab": {
          "base_uri": "https://localhost:8080/"
        },
        "outputId": "9b2e189a-a823-4008-9919-1039fc417574"
      },
      "execution_count": null,
      "outputs": [
        {
          "output_type": "stream",
          "name": "stdout",
          "text": [
            "3\n",
            "4\n",
            "4\n",
            "5\n",
            "3\n"
          ]
        }
      ]
    },
    {
      "cell_type": "markdown",
      "source": [
        "[Additional Resource Links](https://learn.upgrad.com/course/4458/segment/32828/194700/599302/3053717)"
      ],
      "metadata": {
        "id": "KXlvil2KKonE"
      }
    },
    {
      "cell_type": "code",
      "source": [
        "a=10\n",
        "b=16\n",
        "c=20\n",
        "\n",
        "if (a>b and a>c):\n",
        "  print(\"a\")\n",
        "elif (b>c and b>a):\n",
        "  print(\"b\")\n",
        "else:\n",
        "  print(\"c\")"
      ],
      "metadata": {
        "id": "SCR1tI3NKuuE",
        "colab": {
          "base_uri": "https://localhost:8080/"
        },
        "outputId": "88ff8132-8b19-4965-cea6-cfd628b4b7e7"
      },
      "execution_count": null,
      "outputs": [
        {
          "output_type": "stream",
          "name": "stdout",
          "text": [
            "c\n"
          ]
        }
      ]
    },
    {
      "cell_type": "code",
      "source": [
        "#Take input here\n",
        "#we will take input using ast sys\n",
        "import ast\n",
        "input_str = input()\n",
        "\n",
        "#ast.literal_eval() will evaluate the string and make a data structure for the same\n",
        "#here the input is a list since input is in '[...]', so ast.literal_eval() will\n",
        "#make a list with the same data as passed\n",
        "input_list = ast.literal_eval(input_str)\n",
        "\n",
        "#the data or the two values in list is now changed to separate variables\n",
        "day_of_the_week = input_list[0] #first element is an integer denoting the day of the week\n",
        "is_on_vacation = input_list[1] #this is a boolean denoting if its vacation or not\n",
        "\n",
        "if is_on_vacation:\n",
        "    if day_of_the_week in [6,7]:\n",
        "        print('off')\n",
        "    else:\n",
        "        print('10:00')\n",
        "else:\n",
        "    if day_of_the_week in [6,7]:\n",
        "        print('10:00')\n",
        "    else:\n",
        "        print('7:00')"
      ],
      "metadata": {
        "colab": {
          "base_uri": "https://localhost:8080/"
        },
        "id": "7NroLCLYEKBa",
        "outputId": "600a0a27-15c5-440f-9dea-f11c9dfef6d2"
      },
      "execution_count": null,
      "outputs": [
        {
          "output_type": "stream",
          "name": "stdout",
          "text": [
            "[3, True]\n",
            "10:00\n"
          ]
        }
      ]
    },
    {
      "cell_type": "code",
      "source": [
        "#input has been taken for you\n",
        "\n",
        "string1=input()\n",
        "string2=input()\n",
        "\n",
        "#make them all lower\n",
        "string1 = string1.lower()\n",
        "string2 = string2.lower()\n",
        "\n",
        "#start writing your code to find largest common prefix here\n",
        "#first we find the length of smaller string as that can be the longest prefix possible\n",
        "#checking beyond that is pointless\n",
        "l1 = len(string1)\n",
        "l2 = len(string2)\n",
        "min_len = min(l1,l2)\n",
        "\n",
        "#we will check all characters one by one upto min_len in both strings and \n",
        "#break the loop whereever we find that they are not matching\n",
        "for i in range(min_len):\n",
        "    if string1[i] != string2[i]:\n",
        "        break\n",
        "#if i is zero, that means the first element is not matching\n",
        "#value of i here indicates what index is not matching\n",
        "if i==0:\n",
        "    print(-1)\n",
        "#if there is at least one matching prefix string\n",
        "#if one of the strings entirely becomes a prefix of another, for loop will end when i=min_len-1\n",
        "#Hence we need to increase i by 1 to print string1[:min_len]\n",
        "elif i==min_len-1: \n",
        "    print(string1[:i+1])\n",
        "else:\n",
        "    print(string1[:i])"
      ],
      "metadata": {
        "colab": {
          "base_uri": "https://localhost:8080/"
        },
        "id": "G_18GbsAFeQH",
        "outputId": "14e64a48-a8bf-490b-ca9c-8454bd14d3ad"
      },
      "execution_count": null,
      "outputs": [
        {
          "output_type": "stream",
          "name": "stdout",
          "text": [
            "upGrad\n",
            "upgradTeam\n",
            "upgrad\n"
          ]
        }
      ]
    },
    {
      "cell_type": "code",
      "source": [
        "n = int(input())\n",
        "\n",
        "if n%2 == 0:\n",
        "  print('Even')\n",
        "else:\n",
        "  print('Odd')"
      ],
      "metadata": {
        "colab": {
          "base_uri": "https://localhost:8080/"
        },
        "id": "7Va4Ug26GB3H",
        "outputId": "87b48ad5-a430-49bf-a7b9-78c42b92ba04"
      },
      "execution_count": null,
      "outputs": [
        {
          "output_type": "stream",
          "name": "stdout",
          "text": [
            "8\n",
            "Even\n"
          ]
        }
      ]
    },
    {
      "cell_type": "code",
      "source": [
        "#take the input here\n",
        "number=int(input())\n",
        "\n",
        "#the function definition starts here\n",
        "def factorial(n):\n",
        "    #write the funtion here that finds and RETURNS factorial of next\n",
        "    if n < 0:\n",
        "        return -1\n",
        "    elif n == 0:\n",
        "        return 1\n",
        "    else:\n",
        "        return n*factorial(n-1)\n",
        "\n",
        "#function definition ends here\n",
        "\n",
        "#do not alter the code typed below\n",
        "k=factorial(number)\n",
        "print(k)"
      ],
      "metadata": {
        "colab": {
          "base_uri": "https://localhost:8080/"
        },
        "id": "kvQgGH4BIFc1",
        "outputId": "85c8f2b6-fa8e-42d9-b0b5-5eb0e0362127"
      },
      "execution_count": null,
      "outputs": [
        {
          "output_type": "stream",
          "name": "stdout",
          "text": [
            "5\n",
            "120\n"
          ]
        }
      ]
    },
    {
      "cell_type": "code",
      "source": [
        "def factorial(n): \n",
        "  if(n==0):        \n",
        "    return '1'    \n",
        "\n",
        "  elif(n<0):        \n",
        "    return '-1'    \n",
        "\n",
        "  else:   \n",
        "    f = 1       \n",
        "    for i in range (1,n+1):              \n",
        "      f=f*i    \n",
        "\n",
        "  return f\n",
        "\n",
        "factorial(5)"
      ],
      "metadata": {
        "colab": {
          "base_uri": "https://localhost:8080/"
        },
        "id": "zw6CKLpbL6Ia",
        "outputId": "6541bffb-9303-4c54-b526-b7db5ba262d7"
      },
      "execution_count": null,
      "outputs": [
        {
          "output_type": "execute_result",
          "data": {
            "text/plain": [
              "120"
            ]
          },
          "metadata": {},
          "execution_count": 23
        }
      ]
    },
    {
      "cell_type": "code",
      "source": [
        "((500//7) % 5) ** 3"
      ],
      "metadata": {
        "colab": {
          "base_uri": "https://localhost:8080/"
        },
        "id": "_U0zfLHqMD5Z",
        "outputId": "de182318-1616-4ef9-99d9-18328e749270"
      },
      "execution_count": null,
      "outputs": [
        {
          "output_type": "execute_result",
          "data": {
            "text/plain": [
              "1"
            ]
          },
          "metadata": {},
          "execution_count": 24
        }
      ]
    },
    {
      "cell_type": "code",
      "source": [
        "S = \"I love Python\"\n",
        "\n",
        "S[2:5]"
      ],
      "metadata": {
        "colab": {
          "base_uri": "https://localhost:8080/",
          "height": 36
        },
        "id": "xKD90ANrOym9",
        "outputId": "576f893e-2091-4ae0-f8f1-757e07f8a515"
      },
      "execution_count": null,
      "outputs": [
        {
          "output_type": "execute_result",
          "data": {
            "text/plain": [
              "'lov'"
            ],
            "application/vnd.google.colaboratory.intrinsic+json": {
              "type": "string"
            }
          },
          "metadata": {},
          "execution_count": 27
        }
      ]
    },
    {
      "cell_type": "code",
      "source": [
        "S[2:6]"
      ],
      "metadata": {
        "colab": {
          "base_uri": "https://localhost:8080/",
          "height": 36
        },
        "id": "xVLTYY3GPAfF",
        "outputId": "02e3ab1b-6087-49d8-ac8d-9afbfa38fb36"
      },
      "execution_count": null,
      "outputs": [
        {
          "output_type": "execute_result",
          "data": {
            "text/plain": [
              "'love'"
            ],
            "application/vnd.google.colaboratory.intrinsic+json": {
              "type": "string"
            }
          },
          "metadata": {},
          "execution_count": 28
        }
      ]
    },
    {
      "cell_type": "code",
      "source": [
        "S[3:7]"
      ],
      "metadata": {
        "colab": {
          "base_uri": "https://localhost:8080/",
          "height": 36
        },
        "id": "E3_TZmZ4PJiS",
        "outputId": "5009ee9d-6ee9-4bc1-a621-e730b7855543"
      },
      "execution_count": null,
      "outputs": [
        {
          "output_type": "execute_result",
          "data": {
            "text/plain": [
              "'ove '"
            ],
            "application/vnd.google.colaboratory.intrinsic+json": {
              "type": "string"
            }
          },
          "metadata": {},
          "execution_count": 29
        }
      ]
    },
    {
      "cell_type": "code",
      "source": [
        "S[-11:-7]"
      ],
      "metadata": {
        "colab": {
          "base_uri": "https://localhost:8080/",
          "height": 36
        },
        "id": "Gzspq6OEPM8l",
        "outputId": "e462cd16-99c6-4078-c96f-a7158d952437"
      },
      "execution_count": null,
      "outputs": [
        {
          "output_type": "execute_result",
          "data": {
            "text/plain": [
              "'love'"
            ],
            "application/vnd.google.colaboratory.intrinsic+json": {
              "type": "string"
            }
          },
          "metadata": {},
          "execution_count": 30
        }
      ]
    },
    {
      "cell_type": "code",
      "source": [
        "S[-11:-8]"
      ],
      "metadata": {
        "colab": {
          "base_uri": "https://localhost:8080/",
          "height": 36
        },
        "id": "avIZsjALPQNC",
        "outputId": "b012c620-540b-44d2-a374-63cb1efc6303"
      },
      "execution_count": null,
      "outputs": [
        {
          "output_type": "execute_result",
          "data": {
            "text/plain": [
              "'lov'"
            ],
            "application/vnd.google.colaboratory.intrinsic+json": {
              "type": "string"
            }
          },
          "metadata": {},
          "execution_count": 32
        }
      ]
    },
    {
      "cell_type": "code",
      "source": [
        "3 * 3 ** 3\n",
        "\n",
        "# Feedback:\n",
        "# Correct! In precedence order of operators, exponential comes first, hence (3**3) is evaluated first. So you get 3 * 27, i.e. 81."
      ],
      "metadata": {
        "colab": {
          "base_uri": "https://localhost:8080/"
        },
        "id": "s8Y7XdsBPUEJ",
        "outputId": "1b692cf9-9239-4ad9-efa3-d0af58a0e36d"
      },
      "execution_count": null,
      "outputs": [
        {
          "output_type": "execute_result",
          "data": {
            "text/plain": [
              "81"
            ]
          },
          "metadata": {},
          "execution_count": 34
        }
      ]
    },
    {
      "cell_type": "code",
      "source": [
        "L1 = ['Vikas', 'Akshay', 'Sanskar', 'Mahima']\n",
        "print(L1[1][-1])"
      ],
      "metadata": {
        "colab": {
          "base_uri": "https://localhost:8080/"
        },
        "id": "6WuONh2zPbel",
        "outputId": "5b4fb6c0-6422-4472-a8af-2a99b624f3b8"
      },
      "execution_count": null,
      "outputs": [
        {
          "output_type": "stream",
          "name": "stdout",
          "text": [
            "y\n"
          ]
        }
      ]
    },
    {
      "cell_type": "code",
      "source": [
        "l = [32, 34, 12, 27, 33]\n",
        "l.append([14, 19]) # list is being appended.\n",
        "print(len(l))"
      ],
      "metadata": {
        "colab": {
          "base_uri": "https://localhost:8080/"
        },
        "id": "M7xbF1OyPs2f",
        "outputId": "47933295-0913-48cc-9def-0aedf7272308"
      },
      "execution_count": null,
      "outputs": [
        {
          "output_type": "stream",
          "name": "stdout",
          "text": [
            "6\n"
          ]
        }
      ]
    },
    {
      "cell_type": "code",
      "source": [
        "D = {1:['Raj', 22], 2:['Simran', 21], 3:['Rahul', 40]}\n",
        "for val in D:\n",
        "     print(val)"
      ],
      "metadata": {
        "colab": {
          "base_uri": "https://localhost:8080/"
        },
        "id": "Cey_z4LAPyvl",
        "outputId": "61bd60b6-cc6d-402a-a2cb-3dc68fe5ecf4"
      },
      "execution_count": null,
      "outputs": [
        {
          "output_type": "stream",
          "name": "stdout",
          "text": [
            "1\n",
            "2\n",
            "3\n"
          ]
        }
      ]
    },
    {
      "cell_type": "code",
      "source": [
        "paragraph = '''\n",
        "A B C\n",
        "D E F\n",
        "\n",
        "G H I\n",
        "J K L\n",
        "'''\n",
        "\n",
        "single_word_list = []\n",
        "\n",
        "for sentence in paragraph:\n",
        "    for word in sentence.split():\n",
        "        single_word_list.append(word)\n",
        "\n",
        "single_word_list"
      ],
      "metadata": {
        "colab": {
          "base_uri": "https://localhost:8080/"
        },
        "id": "v_m5UEW6QVSL",
        "outputId": "fa630cc9-ef82-4fe3-abcb-c8a6ac8fabef"
      },
      "execution_count": null,
      "outputs": [
        {
          "output_type": "execute_result",
          "data": {
            "text/plain": [
              "['A', 'B', 'C', 'D', 'E', 'F', 'G', 'H', 'I', 'J', 'K', 'L']"
            ]
          },
          "metadata": {},
          "execution_count": 40
        }
      ]
    },
    {
      "cell_type": "code",
      "source": [
        "[word for sentence in paragraph for word in sentence.split()]"
      ],
      "metadata": {
        "colab": {
          "base_uri": "https://localhost:8080/"
        },
        "id": "5zhRbLkoQkQO",
        "outputId": "9a3f0698-6eea-483b-88df-d8d8c0daedc6"
      },
      "execution_count": null,
      "outputs": [
        {
          "output_type": "execute_result",
          "data": {
            "text/plain": [
              "['A', 'B', 'C', 'D', 'E', 'F', 'G', 'H', 'I', 'J', 'K', 'L']"
            ]
          },
          "metadata": {},
          "execution_count": 43
        }
      ]
    },
    {
      "cell_type": "code",
      "source": [
        "print(list(range(10, 1, -1)))"
      ],
      "metadata": {
        "colab": {
          "base_uri": "https://localhost:8080/"
        },
        "id": "upZwvlDJQ5UX",
        "outputId": "e6259164-b5ee-4a3f-a352-b3182d9a2aad"
      },
      "execution_count": null,
      "outputs": [
        {
          "output_type": "stream",
          "name": "stdout",
          "text": [
            "[10, 9, 8, 7, 6, 5, 4, 3, 2]\n"
          ]
        }
      ]
    },
    {
      "cell_type": "code",
      "source": [],
      "metadata": {
        "id": "_51fNRBqRPxl"
      },
      "execution_count": null,
      "outputs": []
    }
  ]
}