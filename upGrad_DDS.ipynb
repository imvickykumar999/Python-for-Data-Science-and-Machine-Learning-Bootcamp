{
  "nbformat": 4,
  "nbformat_minor": 0,
  "metadata": {
    "colab": {
      "provenance": [],
      "authorship_tag": "ABX9TyPjX4W8MnqvgMjl3Qm7sMEv",
      "include_colab_link": true
    },
    "kernelspec": {
      "name": "python3",
      "display_name": "Python 3"
    },
    "language_info": {
      "name": "python"
    }
  },
  "cells": [
    {
      "cell_type": "markdown",
      "metadata": {
        "id": "view-in-github",
        "colab_type": "text"
      },
      "source": [
        "<a href=\"https://colab.research.google.com/github/imvickykumar999/Python-for-Data-Science-and-Machine-Learning-Bootcamp/blob/main/upGrad_DDS.ipynb\" target=\"_parent\"><img src=\"https://colab.research.google.com/assets/colab-badge.svg\" alt=\"Open In Colab\"/></a>"
      ]
    },
    {
      "cell_type": "markdown",
      "source": [
        "# Question : [DDS](https://course.upgrad.com/v/course/4458/question/632123)\n",
        "need of code in the below question explanation\n",
        "You are given a list of string elements and asked to return a list which contains each element of the string in title case or in other words first character of the string would be in upper case and remaining all characters in lower case"
      ],
      "metadata": {
        "id": "c2cp2D1h8zq9"
      }
    },
    {
      "cell_type": "code",
      "source": [
        "mylist = ['hello', 'welcome', 'to', 'DDS']\n",
        "result = [i[0].upper() + i[1:] for i in mylist]\n",
        "print(result)"
      ],
      "metadata": {
        "colab": {
          "base_uri": "https://localhost:8080/"
        },
        "id": "fXFgxj0u8vp7",
        "outputId": "12c5a16f-3c18-44fa-be65-b5815d4e2dc9"
      },
      "execution_count": null,
      "outputs": [
        {
          "output_type": "stream",
          "name": "stdout",
          "text": [
            "['Hello', 'Welcome', 'To', 'DDS']\n"
          ]
        }
      ]
    },
    {
      "cell_type": "code",
      "source": [
        "addlist = []         # initialing empty list\n",
        "for i in mylist:\n",
        "  a = i[0].upper()   # make first letter upper-case\n",
        "  s = a + i[1:]      # i[1:] give string excluding first letter\n",
        "  addlist.append(s)  # append each word in list\n",
        "\n",
        "print(addlist)"
      ],
      "metadata": {
        "colab": {
          "base_uri": "https://localhost:8080/"
        },
        "id": "WTdVUyIL9F5C",
        "outputId": "11de3520-b49f-4c3d-9de0-80df5c99b4f2"
      },
      "execution_count": null,
      "outputs": [
        {
          "output_type": "stream",
          "name": "stdout",
          "text": [
            "['Hello', 'Welcome', 'To', 'DDS']\n"
          ]
        }
      ]
    },
    {
      "cell_type": "code",
      "source": [
        "#take input here\n",
        "mc = input().split(',')\n",
        "m = int(mc[0])\n",
        "c = int(mc[1])\n",
        "\n",
        "#start writing your code here\n",
        "w = choc = m//c\n",
        "\n",
        "while w//3 != 0:\n",
        "    choc += w//3\n",
        "    w = w//3 + w%3\n",
        "\n",
        "#dont forget to print the number of chocolates Sanjay can eat\n",
        "print(choc)"
      ],
      "metadata": {
        "id": "S-QM53qX9ZRq",
        "colab": {
          "base_uri": "https://localhost:8080/"
        },
        "outputId": "4848bef5-438b-46a1-86b3-9e6cea22a00a"
      },
      "execution_count": null,
      "outputs": [
        {
          "output_type": "stream",
          "name": "stdout",
          "text": [
            "4435,76\n",
            "86\n"
          ]
        }
      ]
    },
    {
      "cell_type": "code",
      "source": [
        "def final_choc(m, c):\n",
        "  w = choc = m//c\n",
        "\n",
        "  while w//3 != 0:\n",
        "      choc += w//3\n",
        "      w = w//3 + w%3\n",
        "\n",
        "  return choc"
      ],
      "metadata": {
        "id": "_ZtwKBJU3ub9"
      },
      "execution_count": null,
      "outputs": []
    },
    {
      "cell_type": "code",
      "source": [
        "final_choc(345,2)"
      ],
      "metadata": {
        "colab": {
          "base_uri": "https://localhost:8080/"
        },
        "id": "PTXS2IIu4Pxp",
        "outputId": "f360432d-1a9c-4d47-ce6d-a924e9764ecf"
      },
      "execution_count": null,
      "outputs": [
        {
          "output_type": "execute_result",
          "data": {
            "text/plain": [
              "257"
            ]
          },
          "metadata": {},
          "execution_count": 4
        }
      ]
    },
    {
      "cell_type": "code",
      "source": [
        "final_choc(3,1)"
      ],
      "metadata": {
        "colab": {
          "base_uri": "https://localhost:8080/"
        },
        "id": "DTXKnLbo4Tly",
        "outputId": "9c667a8f-e474-4c82-e0d4-d2786efbda16"
      },
      "execution_count": null,
      "outputs": [
        {
          "output_type": "execute_result",
          "data": {
            "text/plain": [
              "4"
            ]
          },
          "metadata": {},
          "execution_count": 5
        }
      ]
    },
    {
      "cell_type": "code",
      "source": [
        "final_choc(20,4)"
      ],
      "metadata": {
        "colab": {
          "base_uri": "https://localhost:8080/"
        },
        "id": "V4BLd8Jt4Y3h",
        "outputId": "8cc7fa4b-5adb-4ead-86c3-c6ef1d191c73"
      },
      "execution_count": null,
      "outputs": [
        {
          "output_type": "execute_result",
          "data": {
            "text/plain": [
              "7"
            ]
          },
          "metadata": {},
          "execution_count": 7
        }
      ]
    },
    {
      "cell_type": "code",
      "source": [
        "final_choc(18,2)"
      ],
      "metadata": {
        "colab": {
          "base_uri": "https://localhost:8080/"
        },
        "id": "HnGra9S24eVQ",
        "outputId": "b1c937dc-6c02-4e39-ccc7-d2be73179591"
      },
      "execution_count": null,
      "outputs": [
        {
          "output_type": "execute_result",
          "data": {
            "text/plain": [
              "13"
            ]
          },
          "metadata": {},
          "execution_count": 8
        }
      ]
    },
    {
      "cell_type": "code",
      "source": [
        "final_choc(100,5)"
      ],
      "metadata": {
        "colab": {
          "base_uri": "https://localhost:8080/"
        },
        "id": "dS_7MlBS4kla",
        "outputId": "c474eecf-0bd0-4d8a-c726-f9de8e050a31"
      },
      "execution_count": null,
      "outputs": [
        {
          "output_type": "execute_result",
          "data": {
            "text/plain": [
              "29"
            ]
          },
          "metadata": {},
          "execution_count": 10
        }
      ]
    },
    {
      "cell_type": "code",
      "source": [
        "final_choc(15,2)"
      ],
      "metadata": {
        "colab": {
          "base_uri": "https://localhost:8080/"
        },
        "id": "7CWm1UjD4ol7",
        "outputId": "ea03b435-f626-4916-f6ae-99ca2aa7335e"
      },
      "execution_count": null,
      "outputs": [
        {
          "output_type": "execute_result",
          "data": {
            "text/plain": [
              "10"
            ]
          },
          "metadata": {},
          "execution_count": 11
        }
      ]
    },
    {
      "cell_type": "code",
      "source": [
        "A = [10, 20, 30]"
      ],
      "metadata": {
        "id": "leiCLYhH4sm4"
      },
      "execution_count": null,
      "outputs": []
    },
    {
      "cell_type": "code",
      "source": [
        "B = [45, 35, 25]"
      ],
      "metadata": {
        "id": "0UfczpBEqOZL"
      },
      "execution_count": null,
      "outputs": []
    },
    {
      "cell_type": "code",
      "source": [
        "B.extend(A)"
      ],
      "metadata": {
        "id": "zUXsLV5DqS1l"
      },
      "execution_count": null,
      "outputs": []
    },
    {
      "cell_type": "code",
      "source": [
        "B == [45, 35, 25, 10, 20, 30]"
      ],
      "metadata": {
        "colab": {
          "base_uri": "https://localhost:8080/"
        },
        "id": "dNuTWbaXqWsm",
        "outputId": "4399a7ba-27d8-45a3-bbb9-0f3fb76e05ae"
      },
      "execution_count": null,
      "outputs": [
        {
          "output_type": "execute_result",
          "data": {
            "text/plain": [
              "True"
            ]
          },
          "metadata": {},
          "execution_count": 5
        }
      ]
    },
    {
      "cell_type": "code",
      "source": [
        "[A.append(i) for i in B]"
      ],
      "metadata": {
        "colab": {
          "base_uri": "https://localhost:8080/"
        },
        "id": "rkuSZ5XOqTaQ",
        "outputId": "83ffbfb9-5633-4348-ea6b-65b5e81afd07"
      },
      "execution_count": null,
      "outputs": [
        {
          "output_type": "execute_result",
          "data": {
            "text/plain": [
              "[None, None, None, None, None, None]"
            ]
          },
          "metadata": {},
          "execution_count": 6
        }
      ]
    },
    {
      "cell_type": "code",
      "source": [
        "a = [2,0,-3,7,21]\n",
        "# a = []\n",
        "\n",
        "try:\n",
        "  print(min(a))\n",
        "except Exception as e:\n",
        "  print(e)"
      ],
      "metadata": {
        "colab": {
          "base_uri": "https://localhost:8080/"
        },
        "id": "uGBgOiRtqhMR",
        "outputId": "0f27bff3-a236-4e36-a325-417cdcc61dcb"
      },
      "execution_count": null,
      "outputs": [
        {
          "output_type": "stream",
          "name": "stdout",
          "text": [
            "-3\n"
          ]
        }
      ]
    },
    {
      "cell_type": "code",
      "source": [
        "if a:\n",
        "  m = a[0]\n",
        "  for i in a:\n",
        "    if i < m:\n",
        "      m = i\n",
        "else:\n",
        "  m = 'List is empty'\n",
        "m"
      ],
      "metadata": {
        "colab": {
          "base_uri": "https://localhost:8080/"
        },
        "id": "Ak_fuIb3sjTA",
        "outputId": "2b4113ae-0dbe-4873-ed94-a92a60104b16"
      },
      "execution_count": null,
      "outputs": [
        {
          "output_type": "execute_result",
          "data": {
            "text/plain": [
              "-3"
            ]
          },
          "metadata": {},
          "execution_count": 12
        }
      ]
    },
    {
      "cell_type": "code",
      "source": [
        "a = [2,-3,0,21,7]\n",
        "a.sort()\n",
        "print(a)"
      ],
      "metadata": {
        "colab": {
          "base_uri": "https://localhost:8080/"
        },
        "id": "gdYYGoUJspgb",
        "outputId": "a5b55e58-0d6b-45fc-9888-2b41a2c837ba"
      },
      "execution_count": null,
      "outputs": [
        {
          "output_type": "stream",
          "name": "stdout",
          "text": [
            "[-3, 0, 2, 7, 21]\n"
          ]
        }
      ]
    },
    {
      "cell_type": "code",
      "source": [
        "a[1] # 2nd minimum"
      ],
      "metadata": {
        "colab": {
          "base_uri": "https://localhost:8080/"
        },
        "id": "edNsoeE7xJyX",
        "outputId": "8be50e77-b559-41aa-9bc9-606b7528acd8"
      },
      "execution_count": null,
      "outputs": [
        {
          "output_type": "execute_result",
          "data": {
            "text/plain": [
              "0"
            ]
          },
          "metadata": {},
          "execution_count": 31
        }
      ]
    },
    {
      "cell_type": "code",
      "source": [
        "a[-2] # 2nd maximum"
      ],
      "metadata": {
        "colab": {
          "base_uri": "https://localhost:8080/"
        },
        "id": "_jT5U9XAxSjY",
        "outputId": "3e6ccc42-b2fb-4295-e823-71f4f477a6be"
      },
      "execution_count": null,
      "outputs": [
        {
          "output_type": "execute_result",
          "data": {
            "text/plain": [
              "7"
            ]
          },
          "metadata": {},
          "execution_count": 32
        }
      ]
    },
    {
      "cell_type": "code",
      "source": [
        "B.extend(A)"
      ],
      "metadata": {
        "id": "OKc0sDQBxYch"
      },
      "execution_count": null,
      "outputs": []
    },
    {
      "cell_type": "code",
      "source": [
        "A, B"
      ],
      "metadata": {
        "colab": {
          "base_uri": "https://localhost:8080/"
        },
        "id": "vN05UEMe0KIh",
        "outputId": "fe17baf8-016d-4b68-bc8a-a54b3260e29b"
      },
      "execution_count": null,
      "outputs": [
        {
          "output_type": "execute_result",
          "data": {
            "text/plain": [
              "([10, 20, 30], [45, 35, 25, 10, 20, 30])"
            ]
          },
          "metadata": {},
          "execution_count": 45
        }
      ]
    },
    {
      "cell_type": "code",
      "source": [
        "#you have to take input on your own here\n",
        "\n",
        "import ast\n",
        "\n",
        "team = ast.literal_eval(input())\n",
        "applicant = ast.literal_eval(input())\n",
        "\n",
        "#write your code here\n",
        "def check_above_avg(data, check):\n",
        "    s = sum(data)\n",
        "    avg = s/len(data)\n",
        "    if check > avg:\n",
        "        return 1\n",
        "    else:\n",
        "        return 0\n",
        "\n",
        "for i in applicant:\n",
        "    c = check_above_avg(team, i)\n",
        "    if c == 1:\n",
        "        team.append(i)\n",
        "    \n",
        "print(team)\n",
        "\n",
        "\n",
        "# https://learn.upgrad.com/course/4458/segment/32828/194700/599298/3053695"
      ],
      "metadata": {
        "colab": {
          "base_uri": "https://localhost:8080/"
        },
        "id": "8hihzzTm0Rgh",
        "outputId": "044935b6-ed71-4741-e02f-225da693ea93"
      },
      "execution_count": null,
      "outputs": [
        {
          "output_type": "stream",
          "name": "stdout",
          "text": [
            "[10,20,30,40,50]\n",
            "[30,60,80,40]\n",
            "[10, 20, 30, 40, 50, 60, 80]\n"
          ]
        }
      ]
    },
    {
      "cell_type": "code",
      "source": [
        "from functools import reduce\n",
        "reduce(lambda x,y : x+y, ['1', '2'])"
      ],
      "metadata": {
        "colab": {
          "base_uri": "https://localhost:8080/",
          "height": 35
        },
        "id": "WB6ZQ5E7SNRX",
        "outputId": "22a1646e-1bfa-4467-8d0c-05a5573ed5bd"
      },
      "execution_count": 27,
      "outputs": [
        {
          "output_type": "execute_result",
          "data": {
            "text/plain": [
              "'12'"
            ],
            "application/vnd.google.colaboratory.intrinsic+json": {
              "type": "string"
            }
          },
          "metadata": {},
          "execution_count": 27
        }
      ]
    },
    {
      "cell_type": "code",
      "source": [
        "# https://learn.upgrad.com/course/4458/segment/32828/194700/599298/3053697\n",
        "\n",
        "#take input on your own here\n",
        "import ast \n",
        "\n",
        "mylist = ast.literal_eval(input())\n",
        "m = mylist[0]\n",
        "n = mylist[1]\n",
        "final = [0]*n\n",
        "\n",
        "#start writing code here\n",
        "final = [list(final) for i in range(m)]\n",
        "\n",
        "for i in range(m):\n",
        "    for j in range(n):\n",
        "        if i==0 or j==0 or i==m-1 or j==n-1:\n",
        "            final[i][j] = 1\n",
        "            \n",
        "for i in final:\n",
        "    print(i)"
      ],
      "metadata": {
        "id": "o28vDV7oSqMD",
        "colab": {
          "base_uri": "https://localhost:8080/"
        },
        "outputId": "b8a6e74d-8abc-476c-ad7f-8fe636fdb713"
      },
      "execution_count": 4,
      "outputs": [
        {
          "output_type": "stream",
          "name": "stdout",
          "text": [
            "5,7\n",
            "[1, 1, 1, 1, 1, 1, 1]\n",
            "[1, 0, 0, 0, 0, 0, 1]\n",
            "[1, 0, 0, 0, 0, 0, 1]\n",
            "[1, 0, 0, 0, 0, 0, 1]\n",
            "[1, 1, 1, 1, 1, 1, 1]\n"
          ]
        }
      ]
    },
    {
      "cell_type": "code",
      "source": [
        "# if string is immutable then why,\n",
        "a = 'ABC'\n",
        "a = a + '_updated'\n",
        "a # string mutel, contradiction !"
      ],
      "metadata": {
        "colab": {
          "base_uri": "https://localhost:8080/",
          "height": 35
        },
        "id": "XZ8SOjFKt9V9",
        "outputId": "6450df56-f5a1-4c41-deab-570636e2d5a8"
      },
      "execution_count": 8,
      "outputs": [
        {
          "output_type": "execute_result",
          "data": {
            "text/plain": [
              "'ABC_updated'"
            ],
            "application/vnd.google.colaboratory.intrinsic+json": {
              "type": "string"
            }
          },
          "metadata": {},
          "execution_count": 8
        }
      ]
    },
    {
      "cell_type": "code",
      "source": [
        "type(chr(51)), chr(51) # https://learn.upgrad.com/course/4458/segment/32828/194700/599299/3053700"
      ],
      "metadata": {
        "colab": {
          "base_uri": "https://localhost:8080/"
        },
        "id": "Zgy8cudUxlb_",
        "outputId": "35d99471-0e23-4b1b-dd7f-88de77ef203b"
      },
      "execution_count": 14,
      "outputs": [
        {
          "output_type": "execute_result",
          "data": {
            "text/plain": [
              "(str, '3')"
            ]
          },
          "metadata": {},
          "execution_count": 14
        }
      ]
    },
    {
      "cell_type": "code",
      "source": [
        "chr(97)"
      ],
      "metadata": {
        "colab": {
          "base_uri": "https://localhost:8080/",
          "height": 35
        },
        "id": "r7OUgxaMx2Vh",
        "outputId": "e30cd0a5-3851-43f7-fa8d-4ba1d79f420c"
      },
      "execution_count": 11,
      "outputs": [
        {
          "output_type": "execute_result",
          "data": {
            "text/plain": [
              "'a'"
            ],
            "application/vnd.google.colaboratory.intrinsic+json": {
              "type": "string"
            }
          },
          "metadata": {},
          "execution_count": 11
        }
      ]
    },
    {
      "cell_type": "code",
      "source": [
        "chr(123)"
      ],
      "metadata": {
        "colab": {
          "base_uri": "https://localhost:8080/",
          "height": 35
        },
        "id": "0_SsFZgSx5gg",
        "outputId": "e76dd6c6-0d84-4ac7-cf69-53b63d518062"
      },
      "execution_count": 18,
      "outputs": [
        {
          "output_type": "execute_result",
          "data": {
            "text/plain": [
              "'{'"
            ],
            "application/vnd.google.colaboratory.intrinsic+json": {
              "type": "string"
            }
          },
          "metadata": {},
          "execution_count": 18
        }
      ]
    },
    {
      "cell_type": "code",
      "source": [
        "'G'.join(['up','rad'])"
      ],
      "metadata": {
        "colab": {
          "base_uri": "https://localhost:8080/",
          "height": 35
        },
        "id": "IprnIhsbybfd",
        "outputId": "77195115-4b33-4633-f203-98ccc088e469"
      },
      "execution_count": 28,
      "outputs": [
        {
          "output_type": "execute_result",
          "data": {
            "text/plain": [
              "'upGrad'"
            ],
            "application/vnd.google.colaboratory.intrinsic+json": {
              "type": "string"
            }
          },
          "metadata": {},
          "execution_count": 28
        }
      ]
    },
    {
      "cell_type": "code",
      "source": [
        "s='aabupGradaab'.strip('aab')\n",
        "s"
      ],
      "metadata": {
        "colab": {
          "base_uri": "https://localhost:8080/",
          "height": 35
        },
        "id": "3qEjaOGxylzA",
        "outputId": "42e96148-ad75-49aa-97d3-d85b1aaea7cb"
      },
      "execution_count": 30,
      "outputs": [
        {
          "output_type": "execute_result",
          "data": {
            "text/plain": [
              "'upGrad'"
            ],
            "application/vnd.google.colaboratory.intrinsic+json": {
              "type": "string"
            }
          },
          "metadata": {},
          "execution_count": 30
        }
      ]
    },
    {
      "cell_type": "code",
      "source": [
        "'aabupGradaab'.strip('a').strip('b').strip('a')"
      ],
      "metadata": {
        "colab": {
          "base_uri": "https://localhost:8080/",
          "height": 35
        },
        "id": "LeeNRy1b0E6f",
        "outputId": "b09dea40-e8e3-4365-8f75-acb5d52eafa8"
      },
      "execution_count": 31,
      "outputs": [
        {
          "output_type": "execute_result",
          "data": {
            "text/plain": [
              "'upGrad'"
            ],
            "application/vnd.google.colaboratory.intrinsic+json": {
              "type": "string"
            }
          },
          "metadata": {},
          "execution_count": 31
        }
      ]
    },
    {
      "cell_type": "code",
      "source": [
        "# Read the input\n",
        "s = input()\n",
        "\n",
        "#check for palindrome here\n",
        "if s.lower() == s[::-1].lower():\n",
        "    print(1)\n",
        "else:\n",
        "    print(0)"
      ],
      "metadata": {
        "colab": {
          "base_uri": "https://localhost:8080/"
        },
        "id": "A_JpL6QA0Ped",
        "outputId": "b5722dd2-b4e4-4e48-93d9-855359dd7633"
      },
      "execution_count": 42,
      "outputs": [
        {
          "output_type": "stream",
          "name": "stdout",
          "text": [
            "abcd\n",
            "0\n"
          ]
        }
      ]
    },
    {
      "cell_type": "code",
      "source": [
        "#take input here\n",
        "sentence=input()\n",
        "\n",
        "#reverse the words of the sentence here\n",
        "print(' '.join(sentence.split()[::-1]))"
      ],
      "metadata": {
        "colab": {
          "base_uri": "https://localhost:8080/"
        },
        "id": "qFzBJZnb0Uyg",
        "outputId": "db5b54d3-62ed-4e72-9b4d-f28f7a8b4359"
      },
      "execution_count": 44,
      "outputs": [
        {
          "output_type": "stream",
          "name": "stdout",
          "text": [
            "hello welcome to upGrad\n",
            "upGrad to welcome hello\n"
          ]
        }
      ]
    },
    {
      "cell_type": "code",
      "source": [
        "#take input here\n",
        "# s=input()\n",
        "s = 'hello weLcome to upGrad'.lower()\n",
        "\n",
        "#write code to format the string s as asked \n",
        "'_'.join([i[0].upper()+i[1:] for i in s.split()])"
      ],
      "metadata": {
        "colab": {
          "base_uri": "https://localhost:8080/",
          "height": 35
        },
        "id": "6jSDiHy90eVa",
        "outputId": "3ab9a7d5-9308-4f45-d74b-59adc9a12259"
      },
      "execution_count": 50,
      "outputs": [
        {
          "output_type": "execute_result",
          "data": {
            "text/plain": [
              "'Hello_Welcome_To_Upgrad'"
            ],
            "application/vnd.google.colaboratory.intrinsic+json": {
              "type": "string"
            }
          },
          "metadata": {},
          "execution_count": 50
        }
      ]
    },
    {
      "cell_type": "code",
      "source": [
        "print('_'.join([i[0].upper()+i[1:] for i in input().lower().split()]))"
      ],
      "metadata": {
        "colab": {
          "base_uri": "https://localhost:8080/"
        },
        "id": "rWTyhWGQ5eTa",
        "outputId": "a0547d7c-b9f1-48f9-a240-8e2be206ebd6"
      },
      "execution_count": 51,
      "outputs": [
        {
          "output_type": "stream",
          "name": "stdout",
          "text": [
            "hEllo weLcome to upGrad\n",
            "Hello_Welcome_To_Upgrad\n"
          ]
        }
      ]
    },
    {
      "cell_type": "code",
      "source": [
        "# Sample input:\n",
        "# You love Python!\n",
        "\n",
        "# Sample output:\n",
        "# ouoeoY lv Pythn!\n",
        "\n",
        "# s = input()\n",
        "s = 'You love Python!'\n",
        "x,y=[],[]\n",
        "\n",
        "for i in s:\n",
        "  if i in 'aeiou':\n",
        "    x.append(i)\n",
        "  else:\n",
        "    y.append(i)\n",
        "\n",
        "''.join(x) + ''.join(y)"
      ],
      "metadata": {
        "colab": {
          "base_uri": "https://localhost:8080/",
          "height": 35
        },
        "id": "UzuxCms07c-7",
        "outputId": "50084991-725f-47a5-d2b7-12f74a3de369"
      },
      "execution_count": 56,
      "outputs": [
        {
          "output_type": "execute_result",
          "data": {
            "text/plain": [
              "'ouoeoY lv Pythn!'"
            ],
            "application/vnd.google.colaboratory.intrinsic+json": {
              "type": "string"
            }
          },
          "metadata": {},
          "execution_count": 56
        }
      ]
    },
    {
      "cell_type": "code",
      "source": [
        "''.join([i for i in s if i in 'aeiou'] + [i for i in s if i not in 'aeiou'])"
      ],
      "metadata": {
        "colab": {
          "base_uri": "https://localhost:8080/",
          "height": 35
        },
        "id": "Pm_8PR-774NX",
        "outputId": "a4a7b5de-675d-4376-e041-1db25cd9fec5"
      },
      "execution_count": 65,
      "outputs": [
        {
          "output_type": "execute_result",
          "data": {
            "text/plain": [
              "'ouoeoY lv Pythn!'"
            ],
            "application/vnd.google.colaboratory.intrinsic+json": {
              "type": "string"
            }
          },
          "metadata": {},
          "execution_count": 65
        }
      ]
    },
    {
      "cell_type": "code",
      "source": [],
      "metadata": {
        "id": "HxemK9HE8gJP"
      },
      "execution_count": null,
      "outputs": []
    }
  ]
}